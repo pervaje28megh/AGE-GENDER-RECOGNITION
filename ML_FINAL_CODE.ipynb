{
  "metadata": {
    "kernelspec": {
      "language": "python",
      "display_name": "Python 3",
      "name": "python3"
    },
    "language_info": {
      "name": "python",
      "version": "3.7.12",
      "mimetype": "text/x-python",
      "codemirror_mode": {
        "name": "ipython",
        "version": 3
      },
      "pygments_lexer": "ipython3",
      "nbconvert_exporter": "python",
      "file_extension": ".py"
    },
    "colab": {
      "provenance": []
    },
    "accelerator": "GPU",
    "gpuClass": "standard"
  },
  "nbformat_minor": 0,
  "nbformat": 4,
  "cells": [
    {
      "cell_type": "code",
      "source": [
        "import pandas as pd\n",
        "import numpy as np\n",
        "import os\n",
        "import tqdm\n",
        "import pickle\n",
        "import librosa\n",
        "from tensorflow.keras.models import Sequential\n",
        "from tensorflow.keras.layers import Dense, LSTM, Dropout,Conv1D\n",
        "from tensorflow.keras.callbacks import ModelCheckpoint, TensorBoard, EarlyStopping\n",
        "from sklearn.model_selection import train_test_split"
      ],
      "metadata": {
        "_uuid": "8f2839f25d086af736a60e9eeb907d3b93b6e0e5",
        "_cell_guid": "b1076dfc-b9ad-4769-8c92-a6c4dae69d19",
        "execution": {
          "iopub.status.busy": "2022-11-27T06:50:19.999848Z",
          "iopub.execute_input": "2022-11-27T06:50:20.000367Z",
          "iopub.status.idle": "2022-11-27T06:50:27.690872Z",
          "shell.execute_reply.started": "2022-11-27T06:50:20.000324Z",
          "shell.execute_reply": "2022-11-27T06:50:27.689350Z"
        },
        "trusted": true,
        "id": "tExzABgxjs-e"
      },
      "execution_count": 13,
      "outputs": []
    },
    {
      "cell_type": "code",
      "source": [
        "from google.colab import drive\n",
        "drive.mount('/content/drive')"
      ],
      "metadata": {
        "colab": {
          "base_uri": "https://localhost:8080/"
        },
        "id": "ZlibrPtDlIQ7",
        "outputId": "b45cda68-2e6e-4d93-a82c-35efae346ed2"
      },
      "execution_count": 14,
      "outputs": [
        {
          "output_type": "stream",
          "name": "stdout",
          "text": [
            "Drive already mounted at /content/drive; to attempt to forcibly remount, call drive.mount(\"/content/drive\", force_remount=True).\n"
          ]
        }
      ]
    },
    {
      "cell_type": "markdown",
      "source": [
        "**Building the Model**"
      ],
      "metadata": {
        "id": "fLKLli2Ajs-o"
      }
    },
    {
      "cell_type": "code",
      "source": [
        "def create_model(vector_length=128):\n",
        "    model = Sequential()\n",
        "    \n",
        "    model.add(Dense(256, input_shape=(vector_length,)))\n",
        "    model.add(Dropout(0.3))\n",
        "    model.add(Dense(256, activation=\"relu\"))\n",
        "    model.add(Dropout(0.3))\n",
        "    model.add(Dense(128, activation=\"relu\"))\n",
        "    model.add(Dropout(0.3))\n",
        "    model.add(Dense(128, activation=\"relu\"))\n",
        "    model.add(Dropout(0.3))\n",
        "    model.add(Dense(64, activation=\"relu\"))\n",
        "    model.add(Dropout(0.3))\n",
        "    \n",
        "    model.add(Dense(1, activation=\"sigmoid\"))\n",
        "    \n",
        "    model.compile(loss=\"binary_crossentropy\", metrics=[\"accuracy\"], optimizer=\"adam\")\n",
        "    \n",
        "    return model"
      ],
      "metadata": {
        "execution": {
          "iopub.status.busy": "2022-11-27T07:26:04.828516Z",
          "iopub.execute_input": "2022-11-27T07:26:04.828924Z",
          "iopub.status.idle": "2022-11-27T07:26:04.838393Z",
          "shell.execute_reply.started": "2022-11-27T07:26:04.828894Z",
          "shell.execute_reply": "2022-11-27T07:26:04.836683Z"
        },
        "trusted": true,
        "id": "xfYkSW1pjs-q"
      },
      "execution_count": 15,
      "outputs": []
    },
    {
      "cell_type": "markdown",
      "source": [
        "**Testing with voice**"
      ],
      "metadata": {
        "id": "w9fM1uMDjs-u"
      }
    },
    {
      "cell_type": "code",
      "source": [
        "def extract_feature(file_name, **kwargs):\n",
        "    \n",
        "    mfcc = kwargs.get(\"mfcc\")\n",
        "    chroma = kwargs.get(\"chroma\")\n",
        "    mel = kwargs.get(\"mel\")\n",
        "    contrast = kwargs.get(\"contrast\")\n",
        "    tonnetz = kwargs.get(\"tonnetz\")\n",
        "    X, sample_rate = librosa.core.load(file_name)\n",
        "    if chroma or contrast:\n",
        "        stft = np.abs(librosa.stft(X))\n",
        "    result = np.array([])\n",
        "    if mfcc:\n",
        "        mfccs = np.mean(librosa.feature.mfcc(y=X, sr=sample_rate, n_mfcc=40).T, axis=0)\n",
        "        result = np.hstack((result, mfccs))\n",
        "    if chroma:\n",
        "        chroma = np.mean(librosa.feature.chroma_stft(S=stft, sr=sample_rate).T,axis=0)\n",
        "        result = np.hstack((result, chroma))\n",
        "    if mel:\n",
        "        mel = np.mean(librosa.feature.melspectrogram(X, sr=sample_rate).T,axis=0)\n",
        "        result = np.hstack((result, mel))\n",
        "    if contrast:\n",
        "        contrast = np.mean(librosa.feature.spectral_contrast(S=stft, sr=sample_rate).T,axis=0)\n",
        "        result = np.hstack((result, contrast))\n",
        "    if tonnetz:\n",
        "        tonnetz = np.mean(librosa.feature.tonnetz(y=librosa.effects.harmonic(X), sr=sample_rate).T,axis=0)\n",
        "        result = np.hstack((result, tonnetz))\n",
        "    return result"
      ],
      "metadata": {
        "execution": {
          "iopub.status.busy": "2022-11-27T07:32:21.521186Z",
          "iopub.execute_input": "2022-11-27T07:32:21.521680Z",
          "iopub.status.idle": "2022-11-27T07:32:21.536059Z",
          "shell.execute_reply.started": "2022-11-27T07:32:21.521637Z",
          "shell.execute_reply": "2022-11-27T07:32:21.534569Z"
        },
        "trusted": true,
        "id": "yRc0LwZ1js-u"
      },
      "execution_count": 16,
      "outputs": []
    },
    {
      "cell_type": "code",
      "source": [
        "\n",
        "\n",
        "import os\n",
        "import librosa\n",
        "\n",
        "def resize_spectrogram(spec, length, fact=-80):\n",
        "\n",
        "    \n",
        "    canvas = np.ones((len(spec), length)) * fact\n",
        "\n",
        "    if spec.shape[1] <= length:\n",
        "        canvas[:, : spec.shape[1]] = spec\n",
        "    else:\n",
        "        canvas[:, :length] = spec[:, :length]\n",
        "    return canvas\n",
        "\n",
        "def compute_mel_spec(filename, sr=16_000, hop_length=512, duration=3.0):\n",
        "\n",
        "    \n",
        "    y, sr = librosa.load(os.path.join(filename), sr=sr)\n",
        "\n",
        "    \n",
        "    x_mel = librosa.feature.melspectrogram(y=y, sr=sr)\n",
        "\n",
        "    \n",
        "    x_mel = librosa.power_to_db(x_mel, ref=np.max)\n",
        "\n",
        "    \n",
        "    mel_strength = np.mean(x_mel, axis=1)\n",
        "\n",
        "    \n",
        "    length = int(duration * sr / hop_length)\n",
        "\n",
        "    \n",
        "    x_mel = resize_spectrogram(x_mel, length, fact=-80)\n",
        "\n",
        "    return x_mel, mel_strength"
      ],
      "metadata": {
        "id": "1qq4T4aH9Osx"
      },
      "execution_count": 17,
      "outputs": []
    },
    {
      "cell_type": "code",
      "source": [
        "file=\"audio.wav\"\n",
        "\n",
        "model = create_model()\n",
        "\n",
        "model.load_weights(\"/content/drive/MyDrive/ML project/model.h5\")\n",
        "\n",
        "Loaded_model = pickle.load(open(\"/content/drive/MyDrive/ML project/finalized_model_10000_valid.sav\", 'rb'))"
      ],
      "metadata": {
        "id": "YYqs-DKnDEoP"
      },
      "execution_count": 18,
      "outputs": []
    },
    {
      "cell_type": "code",
      "source": [
        "def detect_audio():\n",
        "\n",
        "  features = extract_feature(file, mel=True).reshape(1, -1)\n",
        "  \n",
        "  male_prob = model.predict(features)[0][0]\n",
        "  female_prob = 1 - male_prob\n",
        "  gender = \"male\" if male_prob > female_prob else \"female\"\n",
        "\n",
        "  print(\"Result:\", gender)\n",
        "  print(f\"Probabilities::: Male: {male_prob*100:.2f}%    Female: {female_prob*100:.2f}%\")\n",
        "\n",
        "\n",
        "  mels_strengths1=compute_mel_spec(file, sr=16_000)\n",
        "  best_clf = Loaded_model.best_estimator_\n",
        "  print(best_clf.predict([mels_strengths1[1]]))\n",
        "\n",
        "  value=best_clf.predict([mels_strengths1[1]])\n",
        "\n",
        "  if value[0]==0:\n",
        "      print(\"Teen\");\n",
        "  elif value[0]==1:\n",
        "      print(\"Twenties\")\n",
        "  elif value[0]==2:\n",
        "      print(\"Thirties\")\n",
        "  elif value[0]==3:\n",
        "      print(\"Fourties\")\n",
        "  elif value[0]==4:\n",
        "      print(\"Fifties\")\n",
        "  elif value[0]==5:\n",
        "      print(\"Sixties\")\n",
        "  elif value[0]==6:\n",
        "      print(\"Seventies\")\n",
        "  elif value[0]==7:\n",
        "      print(\"Eighties\")\n",
        "  elif value[0]==8:\n",
        "      print(\"Ninties\")"
      ],
      "metadata": {
        "execution": {
          "iopub.status.busy": "2022-11-27T07:56:14.262011Z",
          "iopub.execute_input": "2022-11-27T07:56:14.262459Z",
          "iopub.status.idle": "2022-11-27T07:56:14.702396Z",
          "shell.execute_reply.started": "2022-11-27T07:56:14.262424Z",
          "shell.execute_reply": "2022-11-27T07:56:14.700914Z"
        },
        "trusted": true,
        "id": "6eNF4bZkjs-v"
      },
      "execution_count": 19,
      "outputs": []
    },
    {
      "cell_type": "code",
      "source": [
        "file=\"/content/drive/MyDrive/ML project/countdwn-23609.mp3\"\n",
        "detect_audio();"
      ],
      "metadata": {
        "colab": {
          "base_uri": "https://localhost:8080/"
        },
        "id": "u6Su4eSUEtAE",
        "outputId": "a252f800-348a-445f-ae58-99cad0fe2a8e"
      },
      "execution_count": 22,
      "outputs": [
        {
          "output_type": "stream",
          "name": "stderr",
          "text": [
            "/usr/local/lib/python3.8/dist-packages/librosa/core/audio.py:165: UserWarning: PySoundFile failed. Trying audioread instead.\n",
            "  warnings.warn(\"PySoundFile failed. Trying audioread instead.\")\n"
          ]
        },
        {
          "output_type": "stream",
          "name": "stdout",
          "text": [
            "1/1 [==============================] - 0s 21ms/step\n",
            "Result: male\n",
            "Probabilities::: Male: 96.64%    Female: 3.36%\n"
          ]
        },
        {
          "output_type": "stream",
          "name": "stderr",
          "text": [
            "/usr/local/lib/python3.8/dist-packages/librosa/core/audio.py:165: UserWarning: PySoundFile failed. Trying audioread instead.\n",
            "  warnings.warn(\"PySoundFile failed. Trying audioread instead.\")\n"
          ]
        },
        {
          "output_type": "stream",
          "name": "stdout",
          "text": [
            "[4]\n",
            "Fifties\n"
          ]
        }
      ]
    },
    {
      "cell_type": "code",
      "source": [
        "# all imports\n",
        "from IPython.display import Javascript\n",
        "from google.colab import output\n",
        "from base64 import b64decode\n",
        "\n",
        "RECORD = \"\"\"\n",
        "const sleep  = time => new Promise(resolve => setTimeout(resolve, time))\n",
        "const b2text = blob => new Promise(resolve => {\n",
        "  const reader = new FileReader()\n",
        "  reader.onloadend = e => resolve(e.srcElement.result)\n",
        "  reader.readAsDataURL(blob)\n",
        "})\n",
        "var record = time => new Promise(async resolve => {\n",
        "  stream = await navigator.mediaDevices.getUserMedia({ audio: true })\n",
        "  recorder = new MediaRecorder(stream)\n",
        "  chunks = []\n",
        "  recorder.ondataavailable = e => chunks.push(e.data)\n",
        "  recorder.start()\n",
        "  await sleep(time)\n",
        "  recorder.onstop = async ()=>{\n",
        "    blob = new Blob(chunks)\n",
        "    text = await b2text(blob)\n",
        "    resolve(text)\n",
        "  }\n",
        "  recorder.stop()\n",
        "})\n",
        "\"\"\"\n",
        "\n",
        "def record(sec=3):\n",
        "  print(\"Start Speaking\")\n",
        "  display(Javascript(RECORD))\n",
        "  s = output.eval_js('record(%d)' % (sec*1000))\n",
        "  b = b64decode(s.split(',')[1])\n",
        "  with open('audio.wav','wb') as f:\n",
        "    f.write(b)\n",
        "  return 'audio.wav'"
      ],
      "metadata": {
        "id": "eN0m1RyhmHDF"
      },
      "execution_count": 20,
      "outputs": []
    },
    {
      "cell_type": "code",
      "source": [
        "record();\n",
        "detect_audio();"
      ],
      "metadata": {
        "colab": {
          "base_uri": "https://localhost:8080/",
          "height": 191
        },
        "id": "7pQX_on6mX9z",
        "outputId": "ae7ee0df-0d36-449b-d127-304dd8a7f492"
      },
      "execution_count": 21,
      "outputs": [
        {
          "output_type": "stream",
          "name": "stdout",
          "text": [
            "Start Speaking\n"
          ]
        },
        {
          "output_type": "display_data",
          "data": {
            "text/plain": [
              "<IPython.core.display.Javascript object>"
            ],
            "application/javascript": [
              "\n",
              "const sleep  = time => new Promise(resolve => setTimeout(resolve, time))\n",
              "const b2text = blob => new Promise(resolve => {\n",
              "  const reader = new FileReader()\n",
              "  reader.onloadend = e => resolve(e.srcElement.result)\n",
              "  reader.readAsDataURL(blob)\n",
              "})\n",
              "var record = time => new Promise(async resolve => {\n",
              "  stream = await navigator.mediaDevices.getUserMedia({ audio: true })\n",
              "  recorder = new MediaRecorder(stream)\n",
              "  chunks = []\n",
              "  recorder.ondataavailable = e => chunks.push(e.data)\n",
              "  recorder.start()\n",
              "  await sleep(time)\n",
              "  recorder.onstop = async ()=>{\n",
              "    blob = new Blob(chunks)\n",
              "    text = await b2text(blob)\n",
              "    resolve(text)\n",
              "  }\n",
              "  recorder.stop()\n",
              "})\n"
            ]
          },
          "metadata": {}
        },
        {
          "output_type": "stream",
          "name": "stderr",
          "text": [
            "/usr/local/lib/python3.8/dist-packages/librosa/core/audio.py:165: UserWarning: PySoundFile failed. Trying audioread instead.\n",
            "  warnings.warn(\"PySoundFile failed. Trying audioread instead.\")\n"
          ]
        },
        {
          "output_type": "stream",
          "name": "stdout",
          "text": [
            "1/1 [==============================] - 0s 81ms/step\n",
            "Result: female\n",
            "Probabilities::: Male: 1.01%    Female: 98.99%\n",
            "[0]\n",
            "Teen\n"
          ]
        },
        {
          "output_type": "stream",
          "name": "stderr",
          "text": [
            "/usr/local/lib/python3.8/dist-packages/librosa/core/audio.py:165: UserWarning: PySoundFile failed. Trying audioread instead.\n",
            "  warnings.warn(\"PySoundFile failed. Trying audioread instead.\")\n"
          ]
        }
      ]
    }
  ]
}